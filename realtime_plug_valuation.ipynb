{
 "cells": [
  {
   "cell_type": "code",
   "execution_count": null,
   "metadata": {
    "collapsed": true
   },
   "outputs": [],
   "source": []
  },
  {
   "cell_type": "code",
   "execution_count": 4,
   "metadata": {
    "collapsed": true
   },
   "outputs": [],
   "source": [
    "# This function needs to be called every time: \n",
    "# (1) right after more tokens are purchased, \n",
    "# (2) right after a new donation comes in\n",
    "# (3) right before `ad_return` changes\n",
    "\n",
    "# A event happening \"right before this function call\" means: the time that has passed since this event happened is 0.\n",
    "\n",
    "def get_current_value(\n",
    "    \n",
    "    num_token_new, # the number of tokens purchased right before this function call\n",
    "    \n",
    "    v_unit_existing, # unit value of one token at the time of last function call\n",
    "    num_token_existing, # integer, number of token in the pool at the time of last function call\n",
    "    \n",
    "    donation, # real, the amount of donation coming in right before this function call,\n",
    "\n",
    "    ad_return, # float, advertisement return rate over the time frame of t\n",
    "    t, # real, time passed since last function call\n",
    "    \n",
    "    v_unit_base=5 # real, base unit value of one token\n",
    "    \n",
    "    ):\n",
    "    \n",
    "    new_purchase = v_unit_base * num_token_new\n",
    "    \n",
    "    appreciated_value = donation + v_unit_existing * num_token_existing * (1 + ad_return) ** t\n",
    "    \n",
    "    total_value = new_purchase + appreciated_value\n",
    "    \n",
    "    num_token_total = num_token_new + num_token_existing\n",
    "    \n",
    "    return total_value / num_token_total\n",
    "    "
   ]
  },
  {
   "cell_type": "code",
   "execution_count": 2,
   "metadata": {
    "collapsed": true
   },
   "outputs": [],
   "source": [
    "num_token_new_ = 100\n",
    "v_unit_existing_ = 15\n",
    "num_token_existing_ = 2000\n",
    "donation_ = 200\n",
    "ad_return_ = 0.3\n",
    "t_ = 0.5\n",
    "v_unit_base_ = 5"
   ]
  },
  {
   "cell_type": "code",
   "execution_count": 5,
   "metadata": {
    "collapsed": false
   },
   "outputs": [
    {
     "data": {
      "text/plain": [
       "16.621553691892448"
      ]
     },
     "execution_count": 5,
     "metadata": {},
     "output_type": "execute_result"
    }
   ],
   "source": [
    "get_current_value(\n",
    "    num_token_new_, \n",
    "    v_unit_existing_,\n",
    "    num_token_existing_,\n",
    "    donation_,\n",
    "    ad_return_,\n",
    "    t_,\n",
    "    v_unit_base_\n",
    ")"
   ]
  }
 ],
 "metadata": {
  "kernelspec": {
   "display_name": "Python 3",
   "language": "python",
   "name": "python3"
  },
  "language_info": {
   "codemirror_mode": {
    "name": "ipython",
    "version": 3
   },
   "file_extension": ".py",
   "mimetype": "text/x-python",
   "name": "python",
   "nbconvert_exporter": "python",
   "pygments_lexer": "ipython3",
   "version": "3.6.1"
  }
 },
 "nbformat": 4,
 "nbformat_minor": 2
}
